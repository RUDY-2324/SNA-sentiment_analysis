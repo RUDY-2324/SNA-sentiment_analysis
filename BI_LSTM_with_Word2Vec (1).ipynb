{
  "nbformat": 4,
  "nbformat_minor": 0,
  "metadata": {
    "colab": {
      "provenance": []
    },
    "kernelspec": {
      "name": "python3",
      "display_name": "Python 3"
    },
    "language_info": {
      "name": "python"
    }
  },
  "cells": [
    {
      "cell_type": "code",
      "execution_count": 1,
      "metadata": {
        "id": "aPW-ryZ5cQSN"
      },
      "outputs": [],
      "source": [
        "import pandas as pd\n",
        "import numpy as np\n",
        "from sklearn.model_selection import train_test_split\n",
        "from keras.preprocessing.text import Tokenizer\n",
        "from tensorflow.keras.preprocessing.sequence import pad_sequences\n",
        "from keras.models import Sequential\n",
        "from keras.layers import Embedding, LSTM, Dense\n",
        "from gensim.models import Word2Vec, FastText"
      ]
    },
    {
      "cell_type": "code",
      "source": [
        "# Load the dataset\n",
        "data = pd.read_csv('/content/train.csv')  # Replace 'customer_review.csv' with your dataset file"
      ],
      "metadata": {
        "id": "8NfKNk-YclWj"
      },
      "execution_count": 2,
      "outputs": []
    },
    {
      "cell_type": "code",
      "source": [
        "# Convert labels to the appropriate data type\n",
        "data['label'] = data['label'].astype(int)"
      ],
      "metadata": {
        "id": "kl60lxgVclZS"
      },
      "execution_count": 3,
      "outputs": []
    },
    {
      "cell_type": "code",
      "source": [
        "# Split the dataset into training and testing sets\n",
        "X_train, X_test, y_train, y_test = train_test_split(data['tweet'], data['label'], test_size=0.2, random_state=42)"
      ],
      "metadata": {
        "id": "oWkhx3wVclcK"
      },
      "execution_count": 4,
      "outputs": []
    },
    {
      "cell_type": "code",
      "source": [
        "# Tokenize the text\n",
        "tokenizer = Tokenizer()\n",
        "tokenizer.fit_on_texts(X_train)\n",
        "\n",
        "# Convert text to sequences\n",
        "X_train_sequences = tokenizer.texts_to_sequences(X_train)\n",
        "X_test_sequences = tokenizer.texts_to_sequences(X_test)"
      ],
      "metadata": {
        "id": "W5Wej9aIclfA"
      },
      "execution_count": 5,
      "outputs": []
    },
    {
      "cell_type": "code",
      "source": [
        "# Pad sequences to ensure consistent length\n",
        "max_sequence_length = max([len(sequence) for sequence in X_train_sequences])\n",
        "X_train_padded = pad_sequences(X_train_sequences, maxlen=max_sequence_length)\n",
        "X_test_padded = pad_sequences(X_test_sequences, maxlen=max_sequence_length)"
      ],
      "metadata": {
        "id": "tfRgzsCBcw9b"
      },
      "execution_count": 6,
      "outputs": []
    },
    {
      "cell_type": "code",
      "source": [
        "# Word Embedding - Word2Vec\n",
        "word2vec_model = Word2Vec(sentences=X_train_sequences, vector_size=100, min_count=1)\n",
        "embedding_matrix = np.zeros((len(tokenizer.word_index) + 1, 100))\n",
        "for word, i in tokenizer.word_index.items():\n",
        "    if word in word2vec_model.wv.key_to_index:\n",
        "        embedding_matrix[i] = word2vec_model.wv[word]"
      ],
      "metadata": {
        "id": "0BAex0dmcxAQ"
      },
      "execution_count": 7,
      "outputs": []
    },
    {
      "cell_type": "code",
      "source": [
        "# Word Embedding - FastText\n",
        "fasttext_model = FastText(sentences=X_train_sequences, vector_size=100, min_count=1)\n",
        "embedding_matrix = np.zeros((len(tokenizer.word_index) + 1, 100))\n",
        "for word, i in tokenizer.word_index.items():\n",
        "    if word in fasttext_model.wv.key_to_index:\n",
        "        embedding_matrix[i] = fasttext_model.wv[word]"
      ],
      "metadata": {
        "id": "ll3hOKMUcxDl"
      },
      "execution_count": 8,
      "outputs": []
    },
    {
      "cell_type": "code",
      "source": [
        "# Define the BI-LSTM model\n",
        "model = Sequential()\n",
        "model.add(Embedding(len(tokenizer.word_index) + 1, 100, weights=[embedding_matrix], input_length=max_sequence_length, trainable=False))\n",
        "model.add(LSTM(100, dropout=0.2, recurrent_dropout=0.2))\n",
        "model.add(Dense(1, activation='sigmoid'))"
      ],
      "metadata": {
        "id": "MrkLkcB9cxGt"
      },
      "execution_count": 9,
      "outputs": []
    },
    {
      "cell_type": "code",
      "source": [
        "model.compile(loss='binary_crossentropy', optimizer='adam', metrics=['accuracy'])"
      ],
      "metadata": {
        "id": "2F-wt8MScxJq"
      },
      "execution_count": 10,
      "outputs": []
    },
    {
      "cell_type": "code",
      "source": [
        "# Train the model\n",
        "model.fit(X_train_padded, y_train.astype(float), validation_data=(X_test_padded, y_test.astype(float)), epochs=10, batch_size=64)"
      ],
      "metadata": {
        "colab": {
          "base_uri": "https://localhost:8080/"
        },
        "id": "-JWs1K1hclh4",
        "outputId": "90f0eb7b-383b-4699-fe7f-e888f678732f"
      },
      "execution_count": 11,
      "outputs": [
        {
          "output_type": "stream",
          "name": "stdout",
          "text": [
            "Epoch 1/10\n",
            "400/400 [==============================] - 45s 102ms/step - loss: 0.2682 - accuracy: 0.9301 - val_loss: 0.2571 - val_accuracy: 0.9287\n",
            "Epoch 2/10\n",
            "400/400 [==============================] - 41s 102ms/step - loss: 0.2544 - accuracy: 0.9301 - val_loss: 0.2573 - val_accuracy: 0.9287\n",
            "Epoch 3/10\n",
            "400/400 [==============================] - 39s 98ms/step - loss: 0.2545 - accuracy: 0.9301 - val_loss: 0.2575 - val_accuracy: 0.9287\n",
            "Epoch 4/10\n",
            "400/400 [==============================] - 40s 99ms/step - loss: 0.2539 - accuracy: 0.9301 - val_loss: 0.2578 - val_accuracy: 0.9287\n",
            "Epoch 5/10\n",
            "400/400 [==============================] - 41s 102ms/step - loss: 0.2539 - accuracy: 0.9301 - val_loss: 0.2573 - val_accuracy: 0.9287\n",
            "Epoch 6/10\n",
            "400/400 [==============================] - 41s 101ms/step - loss: 0.2541 - accuracy: 0.9301 - val_loss: 0.2573 - val_accuracy: 0.9287\n",
            "Epoch 7/10\n",
            "400/400 [==============================] - 40s 100ms/step - loss: 0.2538 - accuracy: 0.9301 - val_loss: 0.2571 - val_accuracy: 0.9287\n",
            "Epoch 8/10\n",
            "400/400 [==============================] - 40s 99ms/step - loss: 0.2538 - accuracy: 0.9301 - val_loss: 0.2582 - val_accuracy: 0.9287\n",
            "Epoch 9/10\n",
            "400/400 [==============================] - 40s 99ms/step - loss: 0.2535 - accuracy: 0.9301 - val_loss: 0.2581 - val_accuracy: 0.9287\n",
            "Epoch 10/10\n",
            "400/400 [==============================] - 40s 99ms/step - loss: 0.2536 - accuracy: 0.9301 - val_loss: 0.2582 - val_accuracy: 0.9287\n"
          ]
        },
        {
          "output_type": "execute_result",
          "data": {
            "text/plain": [
              "<keras.callbacks.History at 0x7fd196d01f30>"
            ]
          },
          "metadata": {},
          "execution_count": 11
        }
      ]
    },
    {
      "cell_type": "code",
      "source": [
        "# Evaluate the model\n",
        "loss, accuracy = model.evaluate(X_test_padded, y_test.astype(float), verbose=0)\n",
        "print(\"Accuracy:\", accuracy)"
      ],
      "metadata": {
        "colab": {
          "base_uri": "https://localhost:8080/"
        },
        "id": "YDU3mHUwclkf",
        "outputId": "acfb19a5-1af0-4883-fea5-2bbde20dcbe0"
      },
      "execution_count": 12,
      "outputs": [
        {
          "output_type": "stream",
          "name": "stdout",
          "text": [
            "Accuracy: 0.9286719560623169\n"
          ]
        }
      ]
    },
    {
      "cell_type": "code",
      "source": [
        "#plot\n",
        "from tensorflow.keras.utils import plot_model\n",
        "plot_model(model, to_file='model.png', show_shapes=True)"
      ],
      "metadata": {
        "colab": {
          "base_uri": "https://localhost:8080/",
          "height": 422
        },
        "id": "UYpMlA4qcln3",
        "outputId": "89737b86-de1e-44e2-a009-a53897da3628"
      },
      "execution_count": 15,
      "outputs": [
        {
          "output_type": "execute_result",
          "data": {
            "image/png": "[encoded data removed]",
            "text/plain": [
              "<IPython.core.display.Image object>"
            ]
          },
          "metadata": {},
          "execution_count": 15
        }
      ]
    },
    {
      "cell_type": "code",
      "source": [],
      "metadata": {
        "id": "0eEJXZ4tfz84"
      },
      "execution_count": null,
      "outputs": []
    }
  ]
}